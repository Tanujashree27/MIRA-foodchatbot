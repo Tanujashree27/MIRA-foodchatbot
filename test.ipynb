{
 "cells": [
  {
   "cell_type": "code",
   "execution_count": 4,
   "metadata": {},
   "outputs": [],
   "source": [
    "import mysql.connector\n",
    "global cnx\n",
    "\n",
    "cnx = mysql.connector.connect(\n",
    "    host=\"localhost\",\n",
    "    user=\"root\",\n",
    "    password=\"85148514\",\n",
    "    database=\"pandeyji_eatery\"\n",
    ")"
   ]
  },
  {
   "cell_type": "code",
   "execution_count": 5,
   "metadata": {},
   "outputs": [],
   "source": [
    "def insert_order_tracking(order_id, status):\n",
    "    cursor = cnx.cursor()\n",
    "\n",
    "    # Inserting the record into the order_tracking table\n",
    "    insert_query = \"INSERT INTO order_tracking (order_id, status) VALUES (%s, %s)\"\n",
    "    cursor.execute(insert_query, (order_id, status))\n",
    "\n",
    "    # Committing the changes\n",
    "    cnx.commit()\n",
    "\n",
    "    # Closing the cursor\n",
    "    cursor.close()"
   ]
  },
  {
   "cell_type": "code",
   "execution_count": 6,
   "metadata": {},
   "outputs": [],
   "source": [
    "def get_total_order_price(order_id):\n",
    "    cursor = cnx.cursor()\n",
    "\n",
    "    # Executing the SQL query to get the total order price\n",
    "    query = f\"SELECT get_total_order_price({order_id})\"\n",
    "    cursor.execute(query)\n",
    "\n",
    "    # Fetching the result\n",
    "    result = cursor.fetchone()[0]\n",
    "\n",
    "    # Closing the cursor\n",
    "    cursor.close()\n",
    "\n",
    "    return result"
   ]
  },
  {
   "cell_type": "code",
   "execution_count": 7,
   "metadata": {},
   "outputs": [],
   "source": [
    "def get_next_order_id():\n",
    "    cursor = cnx.cursor()\n",
    "\n",
    "    # Executing the SQL query to get the next available order_id\n",
    "    query = \"SELECT MAX(order_id) FROM orders\"\n",
    "    cursor.execute(query)\n",
    "\n",
    "    # Fetching the result\n",
    "    result = cursor.fetchone()[0]\n",
    "\n",
    "    # Closing the cursor\n",
    "    cursor.close()\n",
    "\n",
    "    # Returning the next available order_id\n",
    "    if result is None:\n",
    "        return 1\n",
    "    else:\n",
    "        return result + 1"
   ]
  },
  {
   "cell_type": "code",
   "execution_count": 8,
   "metadata": {},
   "outputs": [],
   "source": [
    "def get_order_status(order_id):\n",
    "    cursor = cnx.cursor()\n",
    "\n",
    "    # Executing the SQL query to fetch the order status\n",
    "    query = f\"SELECT status FROM order_tracking WHERE order_id = {order_id}\"\n",
    "    cursor.execute(query)\n",
    "\n",
    "    # Fetching the result\n",
    "    result = cursor.fetchone()\n",
    "\n",
    "    # Closing the cursor\n",
    "    cursor.close()\n",
    "\n",
    "    # Returning the order status\n",
    "    if result:\n",
    "        return result[0]\n",
    "    else:\n",
    "        return None"
   ]
  },
  {
   "cell_type": "code",
   "execution_count": 10,
   "metadata": {},
   "outputs": [
    {
     "name": "stdout",
     "output_type": "stream",
     "text": [
      "-1.00\n"
     ]
    },
    {
     "ename": "NameError",
     "evalue": "name 'insert_order_item' is not defined",
     "output_type": "error",
     "traceback": [
      "\u001b[31m---------------------------------------------------------------------------\u001b[39m",
      "\u001b[31mNameError\u001b[39m                                 Traceback (most recent call last)",
      "\u001b[36mCell\u001b[39m\u001b[36m \u001b[39m\u001b[32mIn[10]\u001b[39m\u001b[32m, line 3\u001b[39m\n\u001b[32m      1\u001b[39m \u001b[38;5;28;01mif\u001b[39;00m \u001b[34m__name__\u001b[39m == \u001b[33m\"\u001b[39m\u001b[33m__main__\u001b[39m\u001b[33m\"\u001b[39m:\n\u001b[32m      2\u001b[39m     \u001b[38;5;28mprint\u001b[39m(get_total_order_price(\u001b[32m56\u001b[39m))\n\u001b[32m----> \u001b[39m\u001b[32m3\u001b[39m     \u001b[43minsert_order_item\u001b[49m(\u001b[33m'\u001b[39m\u001b[33mSamosa\u001b[39m\u001b[33m'\u001b[39m, \u001b[32m3\u001b[39m, \u001b[32m99\u001b[39m)\n\u001b[32m      4\u001b[39m     insert_order_item(\u001b[33m'\u001b[39m\u001b[33mPav Bhaji\u001b[39m\u001b[33m'\u001b[39m, \u001b[32m1\u001b[39m, \u001b[32m99\u001b[39m)\n\u001b[32m      5\u001b[39m     insert_order_tracking(\u001b[32m99\u001b[39m, \u001b[33m\"\u001b[39m\u001b[33min progress\u001b[39m\u001b[33m\"\u001b[39m)\n",
      "\u001b[31mNameError\u001b[39m: name 'insert_order_item' is not defined"
     ]
    }
   ],
   "source": [
    "if __name__ == \"__main__\":\n",
    "    print(get_total_order_price(56))\n",
    "    insert_order_item('Samosa', 3, 99)\n",
    "    insert_order_item('Pav Bhaji', 1, 99)\n",
    "    insert_order_tracking(99, \"in progress\")\n",
    "    print(get_next_order_id())"
   ]
  },
  {
   "cell_type": "code",
   "execution_count": 1,
   "metadata": {},
   "outputs": [
    {
     "name": "stdout",
     "output_type": "stream",
     "text": [
      "3\n"
     ]
    }
   ],
   "source": [
    "print(1+2)"
   ]
  },
  {
   "cell_type": "code",
   "execution_count": null,
   "metadata": {},
   "outputs": [],
   "source": []
  }
 ],
 "metadata": {
  "kernelspec": {
   "display_name": "base",
   "language": "python",
   "name": "python3"
  },
  "language_info": {
   "codemirror_mode": {
    "name": "ipython",
    "version": 3
   },
   "file_extension": ".py",
   "mimetype": "text/x-python",
   "name": "python",
   "nbconvert_exporter": "python",
   "pygments_lexer": "ipython3",
   "version": "3.9.13"
  }
 },
 "nbformat": 4,
 "nbformat_minor": 2
}
